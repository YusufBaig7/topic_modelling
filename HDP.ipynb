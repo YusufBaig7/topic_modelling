{
  "nbformat": 4,
  "nbformat_minor": 0,
  "metadata": {
    "colab": {
      "name": "HDP.ipynb",
      "provenance": [],
      "collapsed_sections": []
    },
    "kernelspec": {
      "name": "python3",
      "display_name": "Python 3"
    },
    "language_info": {
      "name": "python"
    }
  },
  "cells": [
    {
      "cell_type": "code",
      "metadata": {
        "colab": {
          "base_uri": "https://localhost:8080/"
        },
        "id": "QBca6VOcMFUX",
        "outputId": "57d8d96e-9761-427e-ea9d-1fd883016fae"
      },
      "source": [
        "from google.colab import drive\n",
        "drive.mount('/content/drive')"
      ],
      "execution_count": null,
      "outputs": [
        {
          "output_type": "stream",
          "text": [
            "Drive already mounted at /content/drive; to attempt to forcibly remount, call drive.mount(\"/content/drive\", force_remount=True).\n"
          ],
          "name": "stdout"
        }
      ]
    },
    {
      "cell_type": "code",
      "metadata": {
        "colab": {
          "base_uri": "https://localhost:8080/"
        },
        "id": "qPrD5FDCNG5p",
        "outputId": "529d49ec-7e06-4a07-f673-677b1bd541eb"
      },
      "source": [
        "!git clone https://github.com/ecoronado92/towards_data_science.git"
      ],
      "execution_count": null,
      "outputs": [
        {
          "output_type": "stream",
          "text": [
            "fatal: destination path 'towards_data_science' already exists and is not an empty directory.\n"
          ],
          "name": "stdout"
        }
      ]
    },
    {
      "cell_type": "code",
      "metadata": {
        "colab": {
          "base_uri": "https://localhost:8080/"
        },
        "id": "bzzgllRnNSWT",
        "outputId": "c33f9647-2434-47e1-a190-f1dbfeda7a13"
      },
      "source": [
        "%cd towards_data_science/hdp_example/"
      ],
      "execution_count": null,
      "outputs": [
        {
          "output_type": "stream",
          "text": [
            "/content/towards_data_science/hdp_example\n"
          ],
          "name": "stdout"
        }
      ]
    },
    {
      "cell_type": "code",
      "metadata": {
        "colab": {
          "base_uri": "https://localhost:8080/"
        },
        "id": "I5K5icanPMcZ",
        "outputId": "58d4e831-93df-444d-a25c-ada47ebcddc2"
      },
      "source": [
        "pip install -r requirements.txt"
      ],
      "execution_count": null,
      "outputs": [
        {
          "output_type": "stream",
          "text": [
            "Requirement already satisfied: pandas in /usr/local/lib/python3.7/dist-packages (from -r requirements.txt (line 1)) (1.1.5)\n",
            "Requirement already satisfied: numpy in /usr/local/lib/python3.7/dist-packages (from -r requirements.txt (line 2)) (1.19.5)\n",
            "Requirement already satisfied: spacy>=2.2.4 in /usr/local/lib/python3.7/dist-packages (from -r requirements.txt (line 3)) (2.2.4)\n",
            "Requirement already satisfied: nltk>=3.4.5 in /usr/local/lib/python3.7/dist-packages (from -r requirements.txt (line 4)) (3.6.2)\n",
            "Requirement already satisfied: gensim>=3.8.3 in /usr/local/lib/python3.7/dist-packages (from -r requirements.txt (line 5)) (3.8.3)\n",
            "Requirement already satisfied: plotnine>=0.6.0 in /usr/local/lib/python3.7/dist-packages (from -r requirements.txt (line 6)) (0.6.0)\n",
            "Requirement already satisfied: tomotopy>=0.7.1 in /usr/local/lib/python3.7/dist-packages (from -r requirements.txt (line 7)) (0.7.1)\n",
            "Requirement already satisfied: wordcloud>=1.7.0 in /usr/local/lib/python3.7/dist-packages (from -r requirements.txt (line 8)) (1.8.1)\n",
            "Requirement already satisfied: cymem<2.1.0,>=2.0.2 in /usr/local/lib/python3.7/dist-packages (from spacy>=2.2.4->-r requirements.txt (line 3)) (2.0.5)\n",
            "Requirement already satisfied: requests<3.0.0,>=2.13.0 in /usr/local/lib/python3.7/dist-packages (from spacy>=2.2.4->-r requirements.txt (line 3)) (2.23.0)\n",
            "Requirement already satisfied: preshed<3.1.0,>=3.0.2 in /usr/local/lib/python3.7/dist-packages (from spacy>=2.2.4->-r requirements.txt (line 3)) (3.0.5)\n",
            "Requirement already satisfied: blis<0.5.0,>=0.4.0 in /usr/local/lib/python3.7/dist-packages (from spacy>=2.2.4->-r requirements.txt (line 3)) (0.4.1)\n",
            "Requirement already satisfied: tqdm<5.0.0,>=4.38.0 in /usr/local/lib/python3.7/dist-packages (from spacy>=2.2.4->-r requirements.txt (line 3)) (4.41.1)\n",
            "Requirement already satisfied: setuptools in /usr/local/lib/python3.7/dist-packages (from spacy>=2.2.4->-r requirements.txt (line 3)) (57.2.0)\n",
            "Requirement already satisfied: wasabi<1.1.0,>=0.4.0 in /usr/local/lib/python3.7/dist-packages (from spacy>=2.2.4->-r requirements.txt (line 3)) (0.8.2)\n",
            "Requirement already satisfied: srsly<1.1.0,>=1.0.2 in /usr/local/lib/python3.7/dist-packages (from spacy>=2.2.4->-r requirements.txt (line 3)) (1.0.5)\n",
            "Requirement already satisfied: plac<1.2.0,>=0.9.6 in /usr/local/lib/python3.7/dist-packages (from spacy>=2.2.4->-r requirements.txt (line 3)) (1.1.3)\n",
            "Requirement already satisfied: thinc==7.4.0 in /usr/local/lib/python3.7/dist-packages (from spacy>=2.2.4->-r requirements.txt (line 3)) (7.4.0)\n",
            "Requirement already satisfied: murmurhash<1.1.0,>=0.28.0 in /usr/local/lib/python3.7/dist-packages (from spacy>=2.2.4->-r requirements.txt (line 3)) (1.0.5)\n",
            "Requirement already satisfied: catalogue<1.1.0,>=0.0.7 in /usr/local/lib/python3.7/dist-packages (from spacy>=2.2.4->-r requirements.txt (line 3)) (1.0.0)\n",
            "Requirement already satisfied: click in /usr/local/lib/python3.7/dist-packages (from nltk>=3.4.5->-r requirements.txt (line 4)) (7.1.2)\n",
            "Requirement already satisfied: joblib in /usr/local/lib/python3.7/dist-packages (from nltk>=3.4.5->-r requirements.txt (line 4)) (1.0.1)\n",
            "Requirement already satisfied: regex in /usr/local/lib/python3.7/dist-packages (from nltk>=3.4.5->-r requirements.txt (line 4)) (2019.12.20)\n",
            "Requirement already satisfied: six>=1.5.0 in /usr/local/lib/python3.7/dist-packages (from gensim>=3.8.3->-r requirements.txt (line 5)) (1.15.0)\n",
            "Requirement already satisfied: smart-open>=1.8.1 in /usr/local/lib/python3.7/dist-packages (from gensim>=3.8.3->-r requirements.txt (line 5)) (5.1.0)\n",
            "Requirement already satisfied: scipy>=0.18.1 in /usr/local/lib/python3.7/dist-packages (from gensim>=3.8.3->-r requirements.txt (line 5)) (1.4.1)\n",
            "Requirement already satisfied: statsmodels>=0.9.0 in /usr/local/lib/python3.7/dist-packages (from plotnine>=0.6.0->-r requirements.txt (line 6)) (0.10.2)\n",
            "Requirement already satisfied: descartes>=1.1.0 in /usr/local/lib/python3.7/dist-packages (from plotnine>=0.6.0->-r requirements.txt (line 6)) (1.1.0)\n",
            "Requirement already satisfied: matplotlib>=3.1.1 in /usr/local/lib/python3.7/dist-packages (from plotnine>=0.6.0->-r requirements.txt (line 6)) (3.2.2)\n",
            "Requirement already satisfied: mizani>=0.6.0 in /usr/local/lib/python3.7/dist-packages (from plotnine>=0.6.0->-r requirements.txt (line 6)) (0.6.0)\n",
            "Requirement already satisfied: patsy>=0.4.1 in /usr/local/lib/python3.7/dist-packages (from plotnine>=0.6.0->-r requirements.txt (line 6)) (0.5.1)\n",
            "Requirement already satisfied: python-dateutil>=2.7.3 in /usr/local/lib/python3.7/dist-packages (from pandas->-r requirements.txt (line 1)) (2.8.1)\n",
            "Requirement already satisfied: pytz>=2017.2 in /usr/local/lib/python3.7/dist-packages (from pandas->-r requirements.txt (line 1)) (2018.9)\n",
            "Requirement already satisfied: py-cpuinfo in /usr/local/lib/python3.7/dist-packages (from tomotopy>=0.7.1->-r requirements.txt (line 7)) (8.0.0)\n",
            "Requirement already satisfied: pillow in /usr/local/lib/python3.7/dist-packages (from wordcloud>=1.7.0->-r requirements.txt (line 8)) (7.1.2)\n",
            "Requirement already satisfied: importlib-metadata>=0.20 in /usr/local/lib/python3.7/dist-packages (from catalogue<1.1.0,>=0.0.7->spacy>=2.2.4->-r requirements.txt (line 3)) (4.6.1)\n",
            "Requirement already satisfied: typing-extensions>=3.6.4 in /usr/local/lib/python3.7/dist-packages (from importlib-metadata>=0.20->catalogue<1.1.0,>=0.0.7->spacy>=2.2.4->-r requirements.txt (line 3)) (3.7.4.3)\n",
            "Requirement already satisfied: zipp>=0.5 in /usr/local/lib/python3.7/dist-packages (from importlib-metadata>=0.20->catalogue<1.1.0,>=0.0.7->spacy>=2.2.4->-r requirements.txt (line 3)) (3.5.0)\n",
            "Requirement already satisfied: pyparsing!=2.0.4,!=2.1.2,!=2.1.6,>=2.0.1 in /usr/local/lib/python3.7/dist-packages (from matplotlib>=3.1.1->plotnine>=0.6.0->-r requirements.txt (line 6)) (2.4.7)\n",
            "Requirement already satisfied: kiwisolver>=1.0.1 in /usr/local/lib/python3.7/dist-packages (from matplotlib>=3.1.1->plotnine>=0.6.0->-r requirements.txt (line 6)) (1.3.1)\n",
            "Requirement already satisfied: cycler>=0.10 in /usr/local/lib/python3.7/dist-packages (from matplotlib>=3.1.1->plotnine>=0.6.0->-r requirements.txt (line 6)) (0.10.0)\n",
            "Requirement already satisfied: palettable in /usr/local/lib/python3.7/dist-packages (from mizani>=0.6.0->plotnine>=0.6.0->-r requirements.txt (line 6)) (3.3.0)\n",
            "Requirement already satisfied: idna<3,>=2.5 in /usr/local/lib/python3.7/dist-packages (from requests<3.0.0,>=2.13.0->spacy>=2.2.4->-r requirements.txt (line 3)) (2.10)\n",
            "Requirement already satisfied: urllib3!=1.25.0,!=1.25.1,<1.26,>=1.21.1 in /usr/local/lib/python3.7/dist-packages (from requests<3.0.0,>=2.13.0->spacy>=2.2.4->-r requirements.txt (line 3)) (1.24.3)\n",
            "Requirement already satisfied: chardet<4,>=3.0.2 in /usr/local/lib/python3.7/dist-packages (from requests<3.0.0,>=2.13.0->spacy>=2.2.4->-r requirements.txt (line 3)) (3.0.4)\n",
            "Requirement already satisfied: certifi>=2017.4.17 in /usr/local/lib/python3.7/dist-packages (from requests<3.0.0,>=2.13.0->spacy>=2.2.4->-r requirements.txt (line 3)) (2021.5.30)\n"
          ],
          "name": "stdout"
        }
      ]
    },
    {
      "cell_type": "code",
      "metadata": {
        "colab": {
          "base_uri": "https://localhost:8080/"
        },
        "id": "jBgMVr0LP6Nw",
        "outputId": "e4495fa8-ee55-4c50-ed56-3ce90903a3a6"
      },
      "source": [
        "pip install gensim==3.8.3"
      ],
      "execution_count": null,
      "outputs": [
        {
          "output_type": "stream",
          "text": [
            "Requirement already satisfied: gensim==3.8.3 in /usr/local/lib/python3.7/dist-packages (3.8.3)\n",
            "Requirement already satisfied: six>=1.5.0 in /usr/local/lib/python3.7/dist-packages (from gensim==3.8.3) (1.15.0)\n",
            "Requirement already satisfied: scipy>=0.18.1 in /usr/local/lib/python3.7/dist-packages (from gensim==3.8.3) (1.4.1)\n",
            "Requirement already satisfied: numpy>=1.11.3 in /usr/local/lib/python3.7/dist-packages (from gensim==3.8.3) (1.19.5)\n",
            "Requirement already satisfied: smart-open>=1.8.1 in /usr/local/lib/python3.7/dist-packages (from gensim==3.8.3) (5.1.0)\n"
          ],
          "name": "stdout"
        }
      ]
    },
    {
      "cell_type": "code",
      "metadata": {
        "colab": {
          "base_uri": "https://localhost:8080/"
        },
        "id": "3i_ATZOiUaHR",
        "outputId": "59d4bed1-b828-4cda-b4fd-07ca004a36ba"
      },
      "source": [
        "pip install tomotopy==0.7.1"
      ],
      "execution_count": null,
      "outputs": [
        {
          "output_type": "stream",
          "text": [
            "Requirement already satisfied: tomotopy==0.7.1 in /usr/local/lib/python3.7/dist-packages (0.7.1)\n",
            "Requirement already satisfied: py-cpuinfo in /usr/local/lib/python3.7/dist-packages (from tomotopy==0.7.1) (8.0.0)\n"
          ],
          "name": "stdout"
        }
      ]
    },
    {
      "cell_type": "code",
      "metadata": {
        "id": "1Py_kayUNYns"
      },
      "source": [
        "import pandas as pd\n",
        "from pandas import option_context\n",
        "import numpy as np\n",
        "import re\n",
        "import sys\n",
        "\n",
        "# Tomotopy\n",
        "import tomotopy as tp\n",
        "import matplotlib.pyplot as plt\n",
        "from plotnine import ggplot, aes, geom_line, geom_histogram, labs, theme_bw, scale_x_continuous, \\\n",
        "                    geom_bar, theme, lims, geom_text, position_dodge\n",
        "\n",
        "\n",
        "# Gensim\n",
        "import gensim.corpora as corpora\n",
        "from gensim.models import Phrases, CoherenceModel\n",
        "from gensim.models.phrases import Phraser\n",
        "from gensim.models.wrappers import LdaMallet"
      ],
      "execution_count": null,
      "outputs": []
    },
    {
      "cell_type": "code",
      "metadata": {
        "colab": {
          "base_uri": "https://localhost:8080/"
        },
        "id": "_heg-CT4NpEr",
        "outputId": "43fecdd8-fd9e-4155-af73-ebe8d2c422b3"
      },
      "source": [
        "df = pd.read_csv('/content/drive/MyDrive/sentisum/sentisum-assessment-dataset.csv')\n",
        "#df = df.dropna(subset=['Text'])\n",
        "print(df.head())"
      ],
      "execution_count": null,
      "outputs": [
        {
          "output_type": "stream",
          "text": [
            "                                                text\n",
            "0  Tires where delivered to the garage of my choi...\n",
            "1  Easy Tyre Selection Process, Competitive Prici...\n",
            "2         Very easy to use and good value for money.\n",
            "3              Really easy and convenient to arrange\n",
            "4  It was so easy to select tyre sizes and arrang...\n"
          ],
          "name": "stdout"
        }
      ]
    },
    {
      "cell_type": "code",
      "metadata": {
        "id": "SJGmAhfqRz88"
      },
      "source": [
        "import pandas as pd\n",
        "import spacy\n",
        "import re\n",
        "import nltk\n",
        "\n",
        "from gensim.utils import simple_preprocess\n",
        "from gensim.models import Phrases\n",
        "from gensim.models.phrases import Phraser\n",
        "\n",
        "from nltk.corpus import stopwords\n",
        "\n",
        "\n",
        "def run_preprocess_e(news, min_token_len=3, rm_accent=True, bigram_min_cnt=5, bigram_thresh=100,\n",
        "                   extra_stops=['from','subject','re', 'edu','use'],\n",
        "                   postags=['NOUN','VERB','ADV','ADJ']):\n",
        "\n",
        "    '''Function wrapper to preprocess the 20Newsgroup dataset and generate ready to model results\n",
        "    \n",
        "    *** Inputs**\n",
        "    news:obj -> 20Newsgroup object from sklearn (i.e. 20fetch...)\n",
        "    min_token_len: int -> tokens less than this number are excluded during tokenization\n",
        "    rm_accent : bool -> flag whether to remove deaccents\n",
        "    bigram_min_cnt: int -> ignore all words and bigrams with total collected count lower than this value\n",
        "    bigram_thresh: int -> threshold for building phrases, higher means fewer phrases\n",
        "    extra_stops: list -> extra stopwords to ignore asidr from NLTK default\n",
        "    postags:list -> words/bigrams to include based on POS (part-of-speech)\n",
        "    \n",
        "    ** Returns**\n",
        "    df: Master df with 20newgroup data and labels\n",
        "    word_list_lemmatized: list -> list of lists w/ lemmatized bigrams \n",
        "    '''\n",
        "    \n",
        "    ### Setting up stopwords and Spacy\n",
        "    nltk.download('stopwords', quiet=True)\n",
        "    st_words = stopwords.words('english')\n",
        "    st_words.extend(extra_stops)\n",
        "    \n",
        "    # Build master dataframe\n",
        "    df = news['text']\n",
        "    #df = pd.concat([df, pd.Series(news.target_names)],axis=1, join=\"inner\")\n",
        "    #df.reset_index(inplace=True)\n",
        "    #df.columns = [\"text\"]\n",
        "\n",
        "    # Convert values to list\n",
        "    doc_list = df\n",
        "\n",
        "    # Remove email signs, newlines, single quotes\n",
        "    doc_list = [re.sub(r'\\S*@\\S*\\s?', '', txt) for txt in doc_list]\n",
        "    doc_list = [re.sub(r'\\s+', ' ', txt) for txt in doc_list]\n",
        "    doc_list = [re.sub(r\"\\'\", \"\", txt) for txt in doc_list]\n",
        "\n",
        "    # Tokenize based on min_token_len and deaccent flags\n",
        "    print(\"Tokenizing...\\n\")\n",
        "    word_list = [simple_preprocess(txt, deacc=rm_accent, min_len=min_token_len) for txt in doc_list]\n",
        "     \n",
        "    # Create bigram models\n",
        "    bigram = Phrases(word_list, min_count=bigram_min_cnt, threshold=bigram_thresh) # use original wordlist to build model\n",
        "    bigram_model = Phraser(bigram)\n",
        "    \n",
        "    # Remove stopwords\n",
        "    print(\"Removing Stopwords...\\n\")\n",
        "    word_list_nostops = [[word for word in txt if word not in st_words] for txt in word_list]\n",
        "    \n",
        "    # Implement bigram models\n",
        "    print(\"Create bigrams...\\n\")\n",
        "    word_bigrams = [bigram_model[w_vec] for w_vec in word_list_nostops] # implement it in the list w/ no stopwords\n",
        "    \n",
        "    # Lemmatize POS-tags to keep\n",
        "    print(\"Lemmatizing, keeping \" + \",\".join(postags)+ \" POS tags...\\n\")\n",
        "    word_list_lemmatized = lemmatize(word_bigrams, ptags=postags)\n",
        "\n",
        "    print(\"Done preprocessing \" + str(df.shape[0]) + \" documents\")\n",
        "    return df, word_list_lemmatized\n",
        "    \n",
        "\n",
        "# Helper function    \n",
        "def lemmatize(word_list, ptags):\n",
        "    '''Lemmatizes words based on allowed postags, input format is list of sublists \n",
        "       with strings'''\n",
        "    spC = spacy.load('en_core_web_sm')\n",
        "    lem_lists =[]\n",
        "    for vec in word_list:\n",
        "        sentence = spC(\" \".join(vec))\n",
        "        lem_lists.append([token.lemma_ for token in sentence if token.pos_ in ptags])\n",
        "    \n",
        "    return lem_lists"
      ],
      "execution_count": null,
      "outputs": []
    },
    {
      "cell_type": "code",
      "metadata": {
        "colab": {
          "base_uri": "https://localhost:8080/"
        },
        "id": "1d7yG_mFbQKV",
        "outputId": "80d8f9e6-d69c-4f12-86fd-3dfa32388801"
      },
      "source": [
        "from scripts.newsgrp_preprocess import run_preprocess\n",
        "\n",
        "news_df, word_list_lemmatized = run_preprocess_e(df)"
      ],
      "execution_count": null,
      "outputs": [
        {
          "output_type": "stream",
          "text": [
            "Tokenizing...\n",
            "\n",
            "Removing Stopwords...\n",
            "\n",
            "Create bigrams...\n",
            "\n",
            "Lemmatizing, keeping NOUN,VERB,ADV,ADJ POS tags...\n",
            "\n",
            "Done preprocessing 10132 documents\n"
          ],
          "name": "stdout"
        }
      ]
    },
    {
      "cell_type": "code",
      "metadata": {
        "colab": {
          "base_uri": "https://localhost:8080/"
        },
        "id": "XRnOZOXPdB6C",
        "outputId": "51725d82-7982-4e24-f3b6-974493aa82b2"
      },
      "source": [
        "word_list_lemmatized[0][:7]"
      ],
      "execution_count": null,
      "outputs": [
        {
          "output_type": "execute_result",
          "data": {
            "text/plain": [
              "['tire', 'deliver', 'garage', 'choice', 'garage', 'notify', 'deliver']"
            ]
          },
          "metadata": {
            "tags": []
          },
          "execution_count": 12
        }
      ]
    },
    {
      "cell_type": "code",
      "metadata": {
        "colab": {
          "base_uri": "https://localhost:8080/"
        },
        "id": "pO9nQ1xzdUnz",
        "outputId": "fda42ec4-3117-4533-b403-c89b581b8b0e"
      },
      "source": [
        "news_df.head()"
      ],
      "execution_count": null,
      "outputs": [
        {
          "output_type": "execute_result",
          "data": {
            "text/plain": [
              "0    Tires where delivered to the garage of my choi...\n",
              "1    Easy Tyre Selection Process, Competitive Prici...\n",
              "2           Very easy to use and good value for money.\n",
              "3                Really easy and convenient to arrange\n",
              "4    It was so easy to select tyre sizes and arrang...\n",
              "Name: text, dtype: object"
            ]
          },
          "metadata": {
            "tags": []
          },
          "execution_count": 13
        }
      ]
    },
    {
      "cell_type": "code",
      "metadata": {
        "colab": {
          "base_uri": "https://localhost:8080/"
        },
        "id": "cyRc82wSdcZ8",
        "outputId": "99018c8b-7b28-49be-d614-2a69061d46fb"
      },
      "source": [
        "stop_words = set(stopwords.words('english'))\n",
        "sentence = \"A letter has been written asking him to be released\"\n",
        "for word in sentence.split():\n",
        "    if word not in stop_words:\n",
        "        print(\"Kept ==> \" +word)\n",
        "    else:\n",
        "        print(\"Removed: \" +word)"
      ],
      "execution_count": null,
      "outputs": [
        {
          "output_type": "stream",
          "text": [
            "Kept ==> A\n",
            "Kept ==> letter\n",
            "Removed: has\n",
            "Removed: been\n",
            "Kept ==> written\n",
            "Kept ==> asking\n",
            "Removed: him\n",
            "Removed: to\n",
            "Removed: be\n",
            "Kept ==> released\n"
          ],
          "name": "stdout"
        }
      ]
    },
    {
      "cell_type": "code",
      "metadata": {
        "colab": {
          "base_uri": "https://localhost:8080/"
        },
        "id": "784OWM7leOHj",
        "outputId": "f14c95bd-6112-4215-83ab-294d1a5b44cb"
      },
      "source": [
        "## Example showing lemmatization\n",
        "sentence = \"A letter has been written asking him to be released\"\n",
        "\n",
        "spC = spacy.load('en_core_web_sm')\n",
        "\n",
        "lemma_sentence = spC(sentence)\n",
        "for token in lemma_sentence:\n",
        "    print(token.text + \" ==> \" +token.lemma_ + \", \" + token.pos_)"
      ],
      "execution_count": null,
      "outputs": [
        {
          "output_type": "stream",
          "text": [
            "A ==> a, DET\n",
            "letter ==> letter, NOUN\n",
            "has ==> have, AUX\n",
            "been ==> be, AUX\n",
            "written ==> write, VERB\n",
            "asking ==> ask, VERB\n",
            "him ==> -PRON-, PRON\n",
            "to ==> to, PART\n",
            "be ==> be, AUX\n",
            "released ==> release, VERB\n"
          ],
          "name": "stdout"
        }
      ]
    },
    {
      "cell_type": "code",
      "metadata": {
        "id": "AYVCz7bMlyUS"
      },
      "source": [
        "#!/usr/bin/env python3\n",
        "# coding: utf-8\n",
        "\n",
        "## Author: Eduardo Coronado (Duke University)\n",
        "\n",
        "import gensim.corpora as corpora\n",
        "from gensim.models import CoherenceModel\n",
        "import sys\n",
        "\n",
        "def train_HDPmodel_e(hdp, word_list, mcmc_iter, burn_in=100, quiet=False):\n",
        "    '''Wrapper function to train tomotopy HDP Model object\n",
        "    \n",
        "    *** Inputs**\n",
        "    hdp: obj -> initialized HDPModel model\n",
        "    word_list: list -> lemmatized word list of lists\n",
        "    mcmc_iter : int -> number of iterations to train the model\n",
        "    burn_in: int -> MC burn in iterations\n",
        "    quiet: bool -> flag whether to print iteration LL and Topics, if True nothing prints out\n",
        "    \n",
        "    ** Returns**\n",
        "    hdp: trained HDP Model \n",
        "    '''\n",
        "    \n",
        "    print(word_list[:2])\n",
        "    # Add docs to train\n",
        "    for vec in word_list:\n",
        "      hdp.add_doc(vec)\n",
        "\n",
        "    # Initiate MCMC burn-in \n",
        "    hdp.burn_in = 100\n",
        "    hdp.train(0)\n",
        "    print('Num docs:', len(hdp.docs), ', Vocab size:', hdp.num_vocabs, ', Num words:', hdp.num_words)\n",
        "    print('Removed top words:', hdp.removed_top_words)\n",
        "    print('Training...', file=sys.stderr, flush=True)\n",
        "\n",
        "    # Train model\n",
        "    step=round(mcmc_iter*0.10)\n",
        "    for i in range(0, mcmc_iter, step):\n",
        "        hdp.train(step, workers=3)\n",
        "        if not quiet:\n",
        "            print('Iteration: {}\\tLog-likelihood: {}\\tNum. of topics: {}'.format(i, hdp.ll_per_word, hdp.live_k))\n",
        "        \n",
        "    print(\"Done\\n\")  \n",
        "    \n",
        "    return hdp\n",
        "    \n",
        "        \n",
        "def get_hdp_topics(hdp, top_n=10):\n",
        "    '''Wrapper function to extract topics from trained tomotopy HDP model \n",
        "    \n",
        "    ** Inputs **\n",
        "    hdp:obj -> HDPModel trained model\n",
        "    top_n: int -> top n words in topic based on frequencies\n",
        "    \n",
        "    ** Returns **\n",
        "    topics: dict -> per topic, an arrays with top words and associated frequencies \n",
        "    '''\n",
        "    \n",
        "    # Get most important topics by # of times they were assigned (i.e. counts)\n",
        "    sorted_topics = [k for k, v in sorted(enumerate(hdp.get_count_by_topics()), key=lambda x:x[1], reverse=True)]\n",
        "\n",
        "    topics=dict()\n",
        "    \n",
        "    # For topics found, extract only those that are still assigned\n",
        "    for k in sorted_topics:\n",
        "        if not hdp.is_live_topic(k): continue # remove un-assigned topics at the end (i.e. not alive)\n",
        "        topic_wp =[]\n",
        "        for word, prob in hdp.get_topic_words(k, top_n=top_n):\n",
        "            topic_wp.append((word, prob))\n",
        "\n",
        "        topics[k] = topic_wp # store topic word/frequency array\n",
        "        \n",
        "    return topics\n",
        "\n",
        "\n",
        "\n",
        "def eval_coherence(topics_dict, word_list, coherence_type='c_v'):\n",
        "    '''Wrapper function that uses gensim Coherence Model to compute topic coherence scores\n",
        "    \n",
        "    ** Inputs **\n",
        "    topic_dict: dict -> topic dictionary from train_HDPmodel function\n",
        "    word_list: list -> lemmatized word list of lists\n",
        "    coherence_typ: str -> type of coherence value to comput (see gensim for opts)\n",
        "    \n",
        "    ** Returns **\n",
        "    score: float -> coherence value\n",
        "    '''\n",
        "    \n",
        "    # Build gensim objects\n",
        "    vocab = corpora.Dictionary(word_list)\n",
        "    corpus = [vocab.doc2bow(words) for words in word_list]\n",
        "    \n",
        "    # Build topic list from dictionary\n",
        "    topic_list=[]\n",
        "    for k, tups in topics_dict.items():\n",
        "        topic_tokens=[]\n",
        "        for w, p in tups:\n",
        "            topic_tokens.append(w)\n",
        "            \n",
        "        topic_list.append(topic_tokens)\n",
        "            \n",
        "\n",
        "    # Build Coherence model\n",
        "    print(\"Evaluating topic coherence...\")\n",
        "    cm = CoherenceModel(topics=topic_list, corpus=corpus, dictionary=vocab, texts=word_list, \n",
        "                    coherence=coherence_type)\n",
        "    \n",
        "    score = cm.get_coherence()\n",
        "    print (\"Done\\n\")\n",
        "    return score"
      ],
      "execution_count": null,
      "outputs": []
    },
    {
      "cell_type": "code",
      "metadata": {
        "colab": {
          "base_uri": "https://localhost:8080/"
        },
        "id": "CtsTWO9IeP4m",
        "outputId": "e8975a4c-7377-4618-938b-ccdbec1ad504"
      },
      "source": [
        "from scripts.model_funcs import train_HDPmodel, get_hdp_topics\n",
        "\n",
        "\n",
        "tw_list = [tp.TermWeight.ONE, # all terms weighted equally\n",
        "           tp.TermWeight.PMI, # Pointwise Mutual Information term weighting\n",
        "           tp.TermWeight.IDF] # down-weights high frequency terms, upweights low freq ones\n",
        "\n",
        "tw_names = ['one', 'pmi', 'idf']\n",
        "model_topics =[]\n",
        "\n",
        "for i, term_weight in enumerate(tw_list):\n",
        "    hdp = tp.HDPModel(tw=term_weight, min_cf=5, rm_top=7, gamma=1, alpha=0.1,\n",
        "                     initial_k=10, seed=99999)\n",
        "    \n",
        "    print(\"Model \" + tw_names[i] )\n",
        "    hdp = train_HDPmodel_e(hdp, word_list_lemmatized, mcmc_iter=1000)\n",
        "    hdp.save(''.join(['models/hdp_model_',tw_names[i],\".bin\"]))\n",
        "    \n",
        "    model_topics.append(get_hdp_topics(hdp, top_n=10))"
      ],
      "execution_count": null,
      "outputs": [
        {
          "output_type": "stream",
          "text": [
            "Training...\n"
          ],
          "name": "stderr"
        },
        {
          "output_type": "stream",
          "text": [
            "Model one\n",
            "[['tire', 'deliver', 'garage', 'choice', 'garage', 'notify', 'deliver', 'day', 'time', 'arrange', 'garage', 'go', 'fit', 'free', 'experience'], ['selection', 'process', 'competitive', 'pricing', 'excellent', 'fitting', 'service']]\n",
            "Num docs: 10020 , Vocab size: 1304 , Num words: 81394\n",
            "Removed top words: ['tyre', 'service', 'good', 'price', 'easy', 'fit', 'great']\n",
            "Iteration: 0\tLog-likelihood: -6.0829437390516015\tNum. of topics: 18\n",
            "Iteration: 100\tLog-likelihood: -6.058076139470654\tNum. of topics: 21\n",
            "Iteration: 200\tLog-likelihood: -6.0566673383155525\tNum. of topics: 19\n",
            "Iteration: 300\tLog-likelihood: -6.053233944932673\tNum. of topics: 22\n",
            "Iteration: 400\tLog-likelihood: -6.052914449169443\tNum. of topics: 23\n",
            "Iteration: 500\tLog-likelihood: -6.05235498868439\tNum. of topics: 19\n",
            "Iteration: 600\tLog-likelihood: -6.050824032602961\tNum. of topics: 19\n",
            "Iteration: 700\tLog-likelihood: -6.052568081909515\tNum. of topics: 18\n",
            "Iteration: 800\tLog-likelihood: -6.052011553067181\tNum. of topics: 20\n",
            "Iteration: 900\tLog-likelihood: -6.04920864607207\tNum. of topics: 19\n",
            "Done\n",
            "\n"
          ],
          "name": "stdout"
        },
        {
          "output_type": "stream",
          "text": [
            "Training...\n"
          ],
          "name": "stderr"
        },
        {
          "output_type": "stream",
          "text": [
            "Model pmi\n",
            "[['tire', 'deliver', 'garage', 'choice', 'garage', 'notify', 'deliver', 'day', 'time', 'arrange', 'garage', 'go', 'fit', 'free', 'experience'], ['selection', 'process', 'competitive', 'pricing', 'excellent', 'fitting', 'service']]\n",
            "Num docs: 10020 , Vocab size: 1304 , Num words: 81394\n",
            "Removed top words: ['tyre', 'service', 'good', 'price', 'easy', 'fit', 'great']\n",
            "Iteration: 0\tLog-likelihood: -21.517162439850907\tNum. of topics: 16\n",
            "Iteration: 100\tLog-likelihood: -21.602644159598146\tNum. of topics: 16\n",
            "Iteration: 200\tLog-likelihood: -21.602147243643376\tNum. of topics: 16\n",
            "Iteration: 300\tLog-likelihood: -21.758464003852872\tNum. of topics: 15\n",
            "Iteration: 400\tLog-likelihood: -21.74689335259187\tNum. of topics: 19\n",
            "Iteration: 500\tLog-likelihood: -21.674155230224635\tNum. of topics: 21\n",
            "Iteration: 600\tLog-likelihood: -22.01340419108348\tNum. of topics: 24\n",
            "Iteration: 700\tLog-likelihood: -21.833248779701865\tNum. of topics: 18\n",
            "Iteration: 800\tLog-likelihood: -21.663014995498404\tNum. of topics: 22\n"
          ],
          "name": "stdout"
        },
        {
          "output_type": "stream",
          "text": [
            "Training...\n"
          ],
          "name": "stderr"
        },
        {
          "output_type": "stream",
          "text": [
            "Iteration: 900\tLog-likelihood: -21.822177553684977\tNum. of topics: 18\n",
            "Done\n",
            "\n",
            "Model idf\n",
            "[['tire', 'deliver', 'garage', 'choice', 'garage', 'notify', 'deliver', 'day', 'time', 'arrange', 'garage', 'go', 'fit', 'free', 'experience'], ['selection', 'process', 'competitive', 'pricing', 'excellent', 'fitting', 'service']]\n",
            "Num docs: 10020 , Vocab size: 1304 , Num words: 81394\n",
            "Removed top words: ['tyre', 'service', 'good', 'price', 'easy', 'fit', 'great']\n",
            "Iteration: 0\tLog-likelihood: -24.45164943098501\tNum. of topics: 16\n",
            "Iteration: 100\tLog-likelihood: -24.522872331759082\tNum. of topics: 14\n",
            "Iteration: 200\tLog-likelihood: -24.56731880873826\tNum. of topics: 15\n",
            "Iteration: 300\tLog-likelihood: -24.73048954680052\tNum. of topics: 15\n",
            "Iteration: 400\tLog-likelihood: -24.737176597345147\tNum. of topics: 14\n",
            "Iteration: 500\tLog-likelihood: -24.728258970138807\tNum. of topics: 12\n",
            "Iteration: 600\tLog-likelihood: -24.559927371053934\tNum. of topics: 13\n",
            "Iteration: 700\tLog-likelihood: -24.73864986332749\tNum. of topics: 14\n",
            "Iteration: 800\tLog-likelihood: -24.698582749111317\tNum. of topics: 18\n",
            "Iteration: 900\tLog-likelihood: -24.72496873158085\tNum. of topics: 15\n",
            "Done\n",
            "\n"
          ],
          "name": "stdout"
        }
      ]
    },
    {
      "cell_type": "code",
      "metadata": {
        "id": "3N22BeJ5e3Hw"
      },
      "source": [
        "from scripts.model_funcs import get_hdp_topics\n",
        "\n",
        "topics = get_hdp_topics(hdp, top_n=10) # changing top_n changes no. of words displayed\n"
      ],
      "execution_count": null,
      "outputs": []
    },
    {
      "cell_type": "code",
      "metadata": {
        "colab": {
          "base_uri": "https://localhost:8080/"
        },
        "id": "PHwVOZz0WFU7",
        "outputId": "4475c477-10c5-408a-e612-caa013702534"
      },
      "source": [
        "topics"
      ],
      "execution_count": null,
      "outputs": [
        {
          "output_type": "execute_result",
          "data": {
            "text/plain": [
              "{1: [('go', 0.2246938794851303),\n",
              "  ('smoothly', 0.18278135359287262),\n",
              "  ('plan', 0.13751451671123505),\n",
              "  ('arrive', 0.0468626394867897),\n",
              "  ('time', 0.04385480657219887),\n",
              "  ('well', 0.0435175858438015),\n",
              "  ('problem', 0.04321153461933136),\n",
              "  ('transaction', 0.03306236490607262),\n",
              "  ('thing', 0.03203049302101135),\n",
              "  ('accord', 0.029687995091080666)],\n",
              " 2: [('awful', 0.04507463425397873),\n",
              "  ('update', 0.0447591096162796),\n",
              "  ('day', 0.041523173451423645),\n",
              "  ('treatment', 0.037600141018629074),\n",
              "  ('technical', 0.037600141018629074),\n",
              "  ('delivery', 0.0358939953148365),\n",
              "  ('colleague', 0.035277269780635834),\n",
              "  ('new', 0.0348711796104908),\n",
              "  ('driver', 0.03217053413391113),\n",
              "  ('handle', 0.030277682468295097)],\n",
              " 3: [('sure', 0.0768456682562828),\n",
              "  ('fitter', 0.0660637617111206),\n",
              "  ('concerned', 0.06079651787877083),\n",
              "  ('version', 0.059339553117752075),\n",
              "  ('bit', 0.055754855275154114),\n",
              "  ('track', 0.04793514683842659),\n",
              "  ('standard', 0.045716363936662674),\n",
              "  ('order', 0.04547148197889328),\n",
              "  ('notice', 0.043789368122816086),\n",
              "  ('high', 0.043417613953351974)],\n",
              " 4: [('redact', 0.010365244001150131),\n",
              "  ('garage', 0.010096346028149128),\n",
              "  ('car', 0.008813736960291862),\n",
              "  ('time', 0.008650502189993858),\n",
              "  ('get', 0.00680643180385232),\n",
              "  ('order', 0.00675315922126174),\n",
              "  ('fitting', 0.006456696894019842),\n",
              "  ('use', 0.006399101577699184),\n",
              "  ('would', 0.00591711699962616),\n",
              "  ('go', 0.005397955887019634)],\n",
              " 5: [('original', 0.048908863216638565),\n",
              "  ('think', 0.04676228016614914),\n",
              "  ('wheel', 0.04253671318292618),\n",
              "  ('metal', 0.040544331073760986),\n",
              "  ('get', 0.038861971348524094),\n",
              "  ('corrode', 0.0379948765039444),\n",
              "  ('competetive', 0.0379948765039444),\n",
              "  ('entirely', 0.03708494082093239),\n",
              "  ('also', 0.034964852035045624),\n",
              "  ('main', 0.03251189738512039)],\n",
              " 6: [('day', 0.01889856345951557),\n",
              "  ('time', 0.014883262105286121),\n",
              "  ('email', 0.01357970666140318),\n",
              "  ('appointment', 0.012986108660697937),\n",
              "  ('book', 0.012259180657565594),\n",
              "  ('garage', 0.01128354948014021),\n",
              "  ('tell', 0.011270886287093163),\n",
              "  ('say', 0.010935775935649872),\n",
              "  ('call', 0.009722506627440453),\n",
              "  ('redact', 0.009715329855680466)],\n",
              " 7: [('valve_stem', 0.06853592395782471),\n",
              "  ('new', 0.03241579979658127),\n",
              "  ('notice', 0.025171130895614624),\n",
              "  ('story', 0.024596555158495903),\n",
              "  ('changed', 0.024190494790673256),\n",
              "  ('change', 0.02408340573310852),\n",
              "  ('wheel_nut', 0.022429415956139565),\n",
              "  ('torque', 0.021800857037305832),\n",
              "  ('believe', 0.021437624469399452),\n",
              "  ('valve', 0.019926732406020164)],\n",
              " 8: [('operate', 0.048024553805589676),\n",
              "  ('equipment', 0.04425806552171707),\n",
              "  ('garage', 0.03390037268400192),\n",
              "  ('early', 0.033330295234918594),\n",
              "  ('appointment', 0.031057680025696754),\n",
              "  ('system', 0.029686780646443367),\n",
              "  ('come', 0.026461731642484665),\n",
              "  ('purpose', 0.02560236304998398),\n",
              "  ('first', 0.024119460955262184),\n",
              "  ('husband', 0.02402069792151451)],\n",
              " 9: [('check', 0.20170792937278748),\n",
              "  ('branch', 0.15180744230747223),\n",
              "  ('brake', 0.14287540316581726),\n",
              "  ('disappoint', 0.13139013946056366),\n",
              "  ('request', 0.11522448807954788),\n",
              "  ('buy', 0.07546732574701309),\n",
              "  ('redact', 0.0219108946621418),\n",
              "  ('competitive', 0.00012645559036172926),\n",
              "  ('money', 0.0001263610611204058),\n",
              "  ('cheap', 0.00012624429655261338)],\n",
              " 11: [('say', 0.3243360221385956),\n",
              "  ('tin', 0.31722700595855713),\n",
              "  ('exactly', 0.10637547820806503),\n",
              "  ('else', 0.07451597601175308),\n",
              "  ('excellent', 0.04169527068734169),\n",
              "  ('promptly', 0.03965497389435768),\n",
              "  ('round', 7.411980914184824e-05),\n",
              "  ('reccomend', 7.410567195620388e-05),\n",
              "  ('begin', 7.410567195620388e-05),\n",
              "  ('description', 7.410567195620388e-05)],\n",
              " 12: [('minor', 0.21968837082386017),\n",
              "  ('aware', 0.19944122433662415),\n",
              "  ('inform', 0.17390739917755127),\n",
              "  ('customer', 0.09889896214008331),\n",
              "  ('detail', 0.09357328712940216),\n",
              "  ('anywhere', 0.00016511989815626293),\n",
              "  ('store', 0.00016511989815626293),\n",
              "  ('begin', 0.00016511989815626293),\n",
              "  ('description', 0.00016511989815626293),\n",
              "  ('competitively_price', 0.00016511989815626293)],\n",
              " 13: [('speedy', 0.08687418699264526),\n",
              "  ('lucky', 0.05840389430522919),\n",
              "  ('individual', 0.057005178183317184),\n",
              "  ('action', 0.05479816719889641),\n",
              "  ('turnaround', 0.0523550845682621),\n",
              "  ('wide_range', 0.04776865988969803),\n",
              "  ('slow', 0.044406499713659286),\n",
              "  ('initial', 0.044406499713659286),\n",
              "  ('eventually', 0.04284454882144928),\n",
              "  ('old', 0.04121384024620056)],\n",
              " 15: [('poor', 0.1733604520559311),\n",
              "  ('messing', 0.14780963957309723),\n",
              "  ('unnecessary', 0.13764825463294983),\n",
              "  ('around', 0.11514231562614441),\n",
              "  ('lot', 0.08855263143777847),\n",
              "  ('communication', 0.07928773760795593),\n",
              "  ('recieve', 0.00019892073760274798),\n",
              "  ('competitively_price', 0.00019892073760274798),\n",
              "  ('browse', 0.00019892073760274798),\n",
              "  ('excuse', 0.00019892073760274798)],\n",
              " 16: [('excellent', 0.022407395765185356),\n",
              "  ('garage', 0.01584719307720661),\n",
              "  ('fitting', 0.014548131264746189),\n",
              "  ('local', 0.014460868202149868),\n",
              "  ('quick', 0.014204042963683605),\n",
              "  ('recommend', 0.013672275468707085),\n",
              "  ('time', 0.0136647904291749),\n",
              "  ('efficient', 0.013564886525273323),\n",
              "  ('choice', 0.013145767152309418),\n",
              "  ('value', 0.012908452190458775)],\n",
              " 18: [('room', 0.2409147471189499),\n",
              "  ('improvement', 0.2325882613658905),\n",
              "  ('there', 0.11832813918590546),\n",
              "  ('always', 0.10857810080051422),\n",
              "  ('s', 0.08440637588500977),\n",
              "  ('score', 0.00016571376181673259),\n",
              "  ('man', 0.00016569005674682558),\n",
              "  ('order', 0.00016569005674682558),\n",
              "  ('base', 0.00016567425336688757),\n",
              "  ('vehicle', 0.00016567425336688757)]}"
            ]
          },
          "metadata": {
            "tags": []
          },
          "execution_count": 20
        }
      ]
    },
    {
      "cell_type": "code",
      "metadata": {
        "colab": {
          "base_uri": "https://localhost:8080/"
        },
        "id": "eehR0pXSZl6B",
        "outputId": "7ec5e70a-d3d1-40e5-b5af-3443e6077c2e"
      },
      "source": [
        "from scripts.model_funcs import eval_coherence\n",
        "\n",
        "coherence_scores = np.zeros(len(model_topics))\n",
        "\n",
        "for i, t in enumerate(model_topics):\n",
        "    print(\"Model \" + tw_names[i] )\n",
        "    coherence_scores[i] = eval_coherence(t, word_list_lemmatized)"
      ],
      "execution_count": null,
      "outputs": [
        {
          "output_type": "stream",
          "text": [
            "Model one\n",
            "Evaluating topic coherence...\n",
            "Done\n",
            "\n",
            "Model pmi\n",
            "Evaluating topic coherence...\n",
            "Done\n",
            "\n",
            "Model idf\n",
            "Evaluating topic coherence...\n",
            "Done\n",
            "\n"
          ],
          "name": "stdout"
        }
      ]
    },
    {
      "cell_type": "code",
      "metadata": {
        "colab": {
          "base_uri": "https://localhost:8080/",
          "height": 544
        },
        "id": "85TDOwe5Z0iz",
        "outputId": "38cf427e-0984-46a7-a79e-0a52093d022e"
      },
      "source": [
        "df_coherence = pd.DataFrame(coherence_scores).T\n",
        "df_coherence.columns = [\"TW ONE\", \"TW PMI\", \"TW IDF\"]\n",
        "df_coherence= df_coherence.melt(var_name=\"model\").round(4)\n",
        "df_coherence.reset_index(inplace=True)\n",
        "\n",
        "(ggplot(df_coherence) +\n",
        " geom_bar(aes(x='index', y=\"value\", fill=\"model\"), \n",
        "          stat=\"identity\", alpha=0.7) +\n",
        " geom_text(aes(x=\"index\",y=df_coherence.value.values +0.05, label=\"value\")) +\n",
        " theme_bw() +\n",
        " lims(y=(0,1)) +\n",
        " labs(y=\"Coherence\", x=\"Model\", title=\"IDF and PMI weighting yield a slightly higher Coherence score\") \n",
        ")"
      ],
      "execution_count": null,
      "outputs": [
        {
          "output_type": "stream",
          "text": [
            "/usr/local/lib/python3.7/dist-packages/plotnine/utils.py:1246: FutureWarning: is_categorical is deprecated and will be removed in a future version.  Use is_categorical_dtype instead\n",
            "  if pdtypes.is_categorical(arr):\n"
          ],
          "name": "stderr"
        },
        {
          "output_type": "display_data",
          "data": {
            "image/png": "[encoded data removed]",
            "text/plain": [
              "<Figure size 640x480 with 1 Axes>"
            ]
          },
          "metadata": {
            "tags": []
          }
        },
        {
          "output_type": "execute_result",
          "data": {
            "text/plain": [
              "<ggplot: (8766964721993)>"
            ]
          },
          "metadata": {
            "tags": []
          },
          "execution_count": 22
        }
      ]
    },
    {
      "cell_type": "code",
      "metadata": {
        "colab": {
          "base_uri": "https://localhost:8080/"
        },
        "id": "lHQL6QwsZ5Kx",
        "outputId": "40813d99-c10b-4be9-df5f-91859f2a486b"
      },
      "source": [
        "df = pd.read_csv('/content/drive/MyDrive/sentisum/sentisum-assessment-dataset.csv')\n",
        "#df = df.dropna(subset=['Text'])\n",
        "print(df.head())"
      ],
      "execution_count": null,
      "outputs": [
        {
          "output_type": "stream",
          "text": [
            "                                                text\n",
            "0  Tires where delivered to the garage of my choi...\n",
            "1  Easy Tyre Selection Process, Competitive Prici...\n",
            "2         Very easy to use and good value for money.\n",
            "3              Really easy and convenient to arrange\n",
            "4  It was so easy to select tyre sizes and arrang...\n"
          ],
          "name": "stdout"
        }
      ]
    },
    {
      "cell_type": "code",
      "metadata": {
        "colab": {
          "base_uri": "https://localhost:8080/"
        },
        "id": "TIbKcBIlaTnn",
        "outputId": "f3de089d-4412-49b7-c5f6-d649099ae7d0"
      },
      "source": [
        "from scripts.newsgrp_preprocess import run_preprocess\n",
        "\n",
        "news_df, word_list_lemmatized = run_preprocess_e(df)"
      ],
      "execution_count": null,
      "outputs": [
        {
          "output_type": "stream",
          "text": [
            "Tokenizing...\n",
            "\n",
            "Removing Stopwords...\n",
            "\n",
            "Create bigrams...\n",
            "\n",
            "Lemmatizing, keeping NOUN,VERB,ADV,ADJ POS tags...\n",
            "\n",
            "Done preprocessing 10132 documents\n"
          ],
          "name": "stdout"
        }
      ]
    },
    {
      "cell_type": "code",
      "metadata": {
        "id": "pNBhFEDgaexk"
      },
      "source": [
        "\n",
        "def topic_importance(model, news_df, txt):\n",
        "    ''''''\n",
        "    out_df = pd.DataFrame()\n",
        "    \n",
        "    for i, row in enumerate(txt):\n",
        "        doc_inst = model.make_doc(row)\n",
        "        topic_dist, ll = model.infer(doc_inst, together=True)\n",
        "        topic_idx = np.array(topic_dist).argmax()\n",
        "  \n",
        "        words = dict(model.get_topic_words(topic_idx)).keys()\n",
        "        k_words = \", \".join(list(words))\n",
        "        out_df = out_df.append(pd.Series([int(topic_idx), k_words]), ignore_index=True)\n",
        "    \n",
        "    original_docs = pd.Series(news_df.text.values)\n",
        "    true_labels = pd.Series(news_df.topic_name.values)\n",
        "    out_df = pd.concat([out_df, true_labels, original_docs], axis=1)\n",
        "    \n",
        "    \n",
        "    return out_df"
      ],
      "execution_count": null,
      "outputs": []
    },
    {
      "cell_type": "code",
      "metadata": {
        "id": "g_FKK3xbdMBo"
      },
      "source": [
        ""
      ],
      "execution_count": null,
      "outputs": []
    }
  ]
}